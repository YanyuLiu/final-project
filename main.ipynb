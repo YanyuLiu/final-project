{
 "metadata": {
  "name": "",
  "signature": "sha256:3825dee6af6bf23a0b97f3518f0b2cc09f92cd3ba6edc079abff5217bcd74483"
 },
 "nbformat": 3,
 "nbformat_minor": 0,
 "worksheets": [
  {
   "cells": [
    {
     "cell_type": "code",
     "collapsed": false,
     "input": [
      "from __future__ import division\n",
      "import os\n",
      "import sys\n",
      "import glob\n",
      "import matplotlib.pyplot as plt\n",
      "import numpy as np\n",
      "import pandas as pd\n",
      "%matplotlib inline\n",
      "%precision 4\n",
      "plt.style.use('ggplot')"
     ],
     "language": "python",
     "metadata": {},
     "outputs": [],
     "prompt_number": 1
    },
    {
     "cell_type": "heading",
     "level": 3,
     "metadata": {},
     "source": [
      "Dataset"
     ]
    },
    {
     "cell_type": "markdown",
     "metadata": {},
     "source": [
      "GAUSSMIXTURE, which is synthetic. To generate it, I first sample k=(3,4,5) centers from a 3-dimensional Gaussian distribution with mean 0 and variance 5$I_3$. Then add points from Gaussian distributions of unit variance around centers."
     ]
    },
    {
     "cell_type": "code",
     "collapsed": false,
     "input": [
      "#first only generate k=5\n",
      "import numpy.random as nrd\n",
      "nrd.seed(1234)\n",
      "k = 5\n",
      "centers = nrd.multivariate_normal([0,0,0],5*np.identity(3),k)\n",
      "data = [nrd.multivariate_normal(center, np.identity(3),100) for center in centers]\n",
      "data = np.vstack(data)"
     ],
     "language": "python",
     "metadata": {},
     "outputs": [],
     "prompt_number": 2
    },
    {
     "cell_type": "code",
     "collapsed": false,
     "input": [
      "#%%file kmeans.py\n",
      "\n",
      "#centroid\n",
      "# def Centroid(Y):\n",
      "#     \"\"\"Y is a subset of the dataset\"\"\"\n",
      "#     return np.average(Y,axis=0)\n",
      "\n",
      "#cost\n",
      "def Cost(C, Y):\n",
      "    \"\"\"C is a subset of the dataset, Y can be a point or a subset\"\"\"\n",
      "    if  len(Y.shape)==1 or Y.shape[0]==1:\n",
      "        MinIndex = np.argmin(np.sum((Y-C)**2,axis=1))\n",
      "        return np.sum((Y-C[MinIndex,])**2)\n",
      "    else:\n",
      "        return np.sum([Cost(C,Y_i) for Y_i in Y])\n",
      "\n",
      "def weight(C, data):\n",
      "    \"\"\"C is the centroid set and data is the data set\"\"\"\n",
      "    Cost_matrix = np.array([np.sum((c-x)**2) for c in C\n",
      "                                             for x in X]).reshape(len(C),len(X))\n",
      "    \n",
      "    "
     ],
     "language": "python",
     "metadata": {},
     "outputs": [],
     "prompt_number": 3
    },
    {
     "cell_type": "heading",
     "level": 3,
     "metadata": {},
     "source": [
      "Important functions"
     ]
    },
    {
     "cell_type": "heading",
     "level": 3,
     "metadata": {},
     "source": [
      "k-means||"
     ]
    },
    {
     "cell_type": "code",
     "collapsed": false,
     "input": [
      "def kmeanspar(k,l):\n",
      "    #Step 1\n",
      "    C = data[nrd.choice(range(len(data)),1),]\n",
      "    #Step 2\n",
      "    Phi = Cost(C,data)\n",
      "    #for loop\n",
      "    for i in range(int(np.log(Phi))):\n",
      "        prob = [l*Cost(C,x) for x in data]/Cost(C,data)\n",
      "        flag = nrd.uniform(size=len(data))\n",
      "        C = np.concatenate(C,data[prob>=flag,])\n",
      "    #step 7\n",
      "    w\n",
      "\n"
     ],
     "language": "python",
     "metadata": {},
     "outputs": [],
     "prompt_number": 9
    },
    {
     "cell_type": "code",
     "collapsed": false,
     "input": [
      "X=data[0:10,]\n",
      "C=data[0:5,]\n",
      "Cost_matrix = np.array([np.sum((c-x)**2) for c in C\n",
      "                        for x in X]).reshape(len(C),len(X))"
     ],
     "language": "python",
     "metadata": {},
     "outputs": [],
     "prompt_number": 6
    },
    {
     "cell_type": "code",
     "collapsed": false,
     "input": [
      "Index_min = np.min(Cost_matrix,axis="
     ],
     "language": "python",
     "metadata": {},
     "outputs": [
      {
       "metadata": {},
       "output_type": "pyout",
       "prompt_number": 9,
       "text": [
        "array([[  0.    ,   5.7934,   0.5479,   2.6465,   4.2484,   0.7399,\n",
        "          1.4686,   0.8507,   6.5469,   6.1554],\n",
        "       [  5.7934,   0.    ,   7.5094,   1.9325,  13.2998,   8.0688,\n",
        "          5.8933,   4.0205,   3.9113,   2.133 ],\n",
        "       [  0.5479,   7.5094,   0.    ,   4.3513,   1.7454,   0.3315,\n",
        "          3.8021,   0.959 ,  10.5517,   5.7181],\n",
        "       [  2.6465,   1.9325,   4.3513,   0.    ,  10.0583,   3.7339,\n",
        "          2.4873,   1.4734,   2.9911,   4.4047],\n",
        "       [  4.2484,  13.2998,   1.7454,  10.0583,   0.    ,   2.2852,\n",
        "         10.6873,   3.8371,  20.4164,   7.6714]])"
       ]
      }
     ],
     "prompt_number": 9
    },
    {
     "cell_type": "heading",
     "level": 3,
     "metadata": {},
     "source": [
      "Random"
     ]
    },
    {
     "cell_type": "code",
     "collapsed": false,
     "input": [
      "custm"
     ],
     "language": "python",
     "metadata": {},
     "outputs": [
      {
       "metadata": {},
       "output_type": "pyout",
       "prompt_number": 6,
       "text": [
        "<scipy.stats._distn_infrastructure.rv_discrete at 0x7fba255e2390>"
       ]
      }
     ],
     "prompt_number": 6
    },
    {
     "cell_type": "heading",
     "level": 3,
     "metadata": {},
     "source": [
      "K-means++"
     ]
    },
    {
     "cell_type": "code",
     "collapsed": false,
     "input": [],
     "language": "python",
     "metadata": {},
     "outputs": []
    },
    {
     "cell_type": "heading",
     "level": 3,
     "metadata": {},
     "source": [
      "Profile"
     ]
    },
    {
     "cell_type": "markdown",
     "metadata": {},
     "source": [
      "I use broadcasting and list comprehension without using for loop (except the largest one in the algorithm), which might be faster. However, broadcasting might cause other issues, because we can't control and know which broadcasting actually being used. For example, if each column represent one point, the codes will result in a wrong answer."
     ]
    },
    {
     "cell_type": "heading",
     "level": 3,
     "metadata": {},
     "source": [
      "Optimation Strategies"
     ]
    },
    {
     "cell_type": "markdown",
     "metadata": {},
     "source": [
      "1. The for loop might could be changed to the while loop\n",
      "2. "
     ]
    },
    {
     "cell_type": "code",
     "collapsed": false,
     "input": [],
     "language": "python",
     "metadata": {},
     "outputs": []
    }
   ],
   "metadata": {}
  }
 ]
}