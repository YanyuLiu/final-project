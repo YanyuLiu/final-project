{
 "cells": [
  {
   "cell_type": "markdown",
   "metadata": {},
   "source": [
    "# Tests"
   ]
  },
  {
   "cell_type": "code",
   "execution_count": 1,
   "metadata": {
    "collapsed": false
   },
   "outputs": [
    {
     "name": "stdout",
     "output_type": "stream",
     "text": [
      "Overwriting kmeans.py\n"
     ]
    }
   ],
   "source": [
    "%%file kmeans.py\n",
    "import numpy as np\n",
    "#centroid\n",
    "# def Centroid(Y):\n",
    "#     \"\"\"Y is a subset of the dataset\"\"\"\n",
    "#     return np.average(Y,axis=0)\n",
    "\n",
    "#cost\n",
    "def Cost(C, Y):\n",
    "    \"\"\"C is a subset of the dataset, Y can be a point or a subset\"\"\"\n",
    "    if  len(Y.shape)==1 or Y.shape[0]==1:\n",
    "        MinIndex = np.argmin(np.sum((Y-C)**2,axis=1))\n",
    "        return np.sum((Y-C[MinIndex,])**2)\n",
    "    else:\n",
    "        return np.sum([Cost(C,Y_i) for Y_i in Y])\n",
    "\n",
    "#weight:assume C and data both have more than one point\n",
    "def weight(C, data):\n",
    "    \"\"\"C is the centroid set and data is the data set\"\"\"\n",
    "    Cost_matrix = np.array([np.sum((c-x)**2) for c in C\n",
    "                                             for x in data]).reshape(len(C),len(data))\n",
    "    Index_min = list(np.argmin(Cost_matrix,axis=0))\n",
    "    return np.array([Index_min.count(i) for i in range(len(C))])"
   ]
  },
  {
   "cell_type": "code",
   "execution_count": 6,
   "metadata": {
    "collapsed": false
   },
   "outputs": [
    {
     "name": "stdout",
     "output_type": "stream",
     "text": [
      "Overwriting test_kmeans.py\n"
     ]
    }
   ],
   "source": [
    "%%file test_kmeans.py\n",
    "\n",
    "import numpy as np\n",
    "import numpy.random as nrd\n",
    "from numpy.testing import assert_equal\n",
    "from kmeans import Cost,weight\n",
    "\n",
    "# def test_Centroid_dimension():\n",
    "   \n",
    "# def test_Centroid_when_same():\n",
    "    \n",
    "# def test_Centroid_when_different():\n",
    "    \n",
    "# def test_Centroid_known():\n",
    "\n",
    "def test_Cost_integer1():\n",
    "    Y=np.array([1,2,3])\n",
    "    C=np.array([[1,2,3],[3,4,2],[5,2,1]])\n",
    "    assert Cost(C,Y) == 0\n",
    "    \n",
    "def test_Cost_integer1():\n",
    "    Y=C=np.array([[1,2,3],[3,4,2],[5,2,1]])\n",
    "    assert Cost(C,Y) == 0\n",
    "    \n",
    "\n",
    "def test_Cost_non_negative1():\n",
    "    for i in range(10):\n",
    "        Y=nrd.multivariate_normal([0,0,0],5*np.identity(3),4)\n",
    "        C=nrd.multivariate_normal([0,0,0],5*np.identity(3),3)\n",
    "        assert Cost(C,Y) >= 0\n",
    "        \n",
    "def test_Cost_non_negative2():\n",
    "    for i in range(10):\n",
    "        Y=nrd.multivariate_normal([0,0,0],5*np.identity(3),1)\n",
    "        C=nrd.multivariate_normal([0,0,0],5*np.identity(3),3)\n",
    "        assert Cost(C,Y) >= 0\n",
    "    \n",
    "def test_Cost_zero1():\n",
    "    Y=C=nrd.multivariate_normal([0,0,0],5*np.identity(3),3)\n",
    "    assert Cost(C,Y) == 0\n",
    "    \n",
    "def test_Cost_zero2():\n",
    "    C=nrd.multivariate_normal([0,0,0],5*np.identity(3),3)\n",
    "    Y=C[0,]\n",
    "    assert Cost(C,Y) == 0\n",
    "    \n",
    "def test_Cost_known1():\n",
    "    C1=nrd.multivariate_normal([0,0,0],5*np.identity(3),3)\n",
    "    C2=C1[0:1,]\n",
    "    Y=nrd.multivariate_normal([0,0,0],5*np.identity(3),4)\n",
    "    assert Cost(C1,Y) <= Cost(C2,Y)\n",
    "    \n",
    "def test_weight_known1():\n",
    "    C=nrd.multivariate_normal([0,0,0],5*np.identity(3),1)\n",
    "    assert_equal(weight(C,C),np.array([1]))\n",
    "\n",
    "def test_weight_known2():\n",
    "    C=nrd.multivariate_normal([0,0,0],5*np.identity(3),3)\n",
    "    assert_equal(weight(C,C),np.array([1,1,1]))\n",
    "\n",
    "def test_weight_zero1():\n",
    "    C=nrd.multivariate_normal([0,0,0],5*np.identity(3),5)\n",
    "    X=C[0:4,]\n",
    "    assert_equal(weight(C,X),np.array([1,1,1,1,0]))\n",
    "    \n",
    "def test_weight_zero1():\n",
    "    C=nrd.multivariate_normal([0,0,0],5*np.identity(3),5)\n",
    "    X=C[1:5,]\n",
    "    assert_equal(weight(C,X),np.array([0,1,1,1,1]))\n",
    "    \n",
    "def test_weight_integer1():\n",
    "    X=np.array([[1,1,1],[2,3,4],[1,1,1]])\n",
    "    C=X[0:2,]\n",
    "    assert_equal(weight(C,X),np.array([2,1]))"
   ]
  },
  {
   "cell_type": "code",
   "execution_count": 7,
   "metadata": {
    "collapsed": false
   },
   "outputs": [
    {
     "name": "stdout",
     "output_type": "stream",
     "text": [
      "\u001b[1m============================= test session starts ==============================\u001b[0m\n",
      "platform linux2 -- Python 2.7.9 -- py-1.4.25 -- pytest-2.6.3\n",
      "collected 10 items \n",
      "\u001b[0m\n",
      "test_kmeans.py ..........\n",
      "\n",
      "\u001b[32m\u001b[1m========================== 10 passed in 0.12 seconds ===========================\u001b[0m\n"
     ]
    }
   ],
   "source": [
    "! py.test"
   ]
  },
  {
   "cell_type": "code",
   "execution_count": null,
   "metadata": {
    "collapsed": true
   },
   "outputs": [],
   "source": []
  }
 ],
 "metadata": {
  "kernelspec": {
   "display_name": "Python 2",
   "language": "python",
   "name": "python2"
  },
  "language_info": {
   "codemirror_mode": {
    "name": "ipython",
    "version": 2
   },
   "file_extension": ".py",
   "mimetype": "text/x-python",
   "name": "python",
   "nbconvert_exporter": "python",
   "pygments_lexer": "ipython2",
   "version": "2.7.9"
  }
 },
 "nbformat": 4,
 "nbformat_minor": 0
}
