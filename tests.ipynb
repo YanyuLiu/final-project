{
 "metadata": {
  "name": "",
  "signature": "sha256:eaf54d63a999f761b5c2a0a858d8c244daa4c5b6033a20e0666b5e70a1679b8f"
 },
 "nbformat": 3,
 "nbformat_minor": 0,
 "worksheets": [
  {
   "cells": [
    {
     "cell_type": "heading",
     "level": 1,
     "metadata": {},
     "source": [
      "Tests"
     ]
    },
    {
     "cell_type": "code",
     "collapsed": false,
     "input": [
      "%%file kmeans.py\n",
      "import numpy as np\n",
      "#centroid\n",
      "# def Centroid(Y):\n",
      "#     \"\"\"Y is a subset of the dataset\"\"\"\n",
      "#     return np.average(Y,axis=0)\n",
      "\n",
      "#cost\n",
      "def Cost(C, Y):\n",
      "    \"\"\"C is a subset of the dataset, Y can be a point or a subset\"\"\"\n",
      "    if  len(Y.shape)==1 or Y.shape[0]==1:\n",
      "        MinIndex = np.argmin(np.sum((Y-C)**2,axis=1))\n",
      "        return np.sum((Y-C[MinIndex,])**2)\n",
      "    else:\n",
      "        return np.sum([Cost(C,Y_i) for Y_i in Y])\n",
      "        "
     ],
     "language": "python",
     "metadata": {},
     "outputs": [
      {
       "output_type": "stream",
       "stream": "stdout",
       "text": [
        "Overwriting kmeans.py\n"
       ]
      }
     ],
     "prompt_number": 59
    },
    {
     "cell_type": "code",
     "collapsed": false,
     "input": [
      "%%file test_kmeans.py\n",
      "\n",
      "import numpy as np\n",
      "from numpy.testing import assert_almost_equal\n",
      "from kmeans import Cost\n",
      "\n",
      "# def test_Centroid_dimension():\n",
      "   \n",
      "# def test_Centroid_when_same():\n",
      "    \n",
      "# def test_Centroid_when_different():\n",
      "    \n",
      "# def test_Centroid_known():\n",
      "    \n",
      "def test_Cost_non_negative1():\n",
      "    for i in range(10):\n",
      "        Y2=np.random.multivariate_normal([0,0,0],5*np.identity(3),4)\n",
      "        C=np.random.multivariate_normal([0,0,0],5*np.identity(3),3)\n",
      "        assert Cost(C,Y2) >= 0\n",
      "        \n",
      "def test_Cost_non_negative2():\n",
      "    for i in range(10):\n",
      "        Y1=np.random.multivariate_normal([0,0,0],5*np.identity(3),1)\n",
      "        C=np.random.multivariate_normal([0,0,0],5*np.identity(3),3)\n",
      "        assert Cost(C,Y1) >= 0\n",
      "    \n",
      "def test_Cost_zero1():\n",
      "    Y=C=np.random.multivariate_normal([0,0,0],5*np.identity(3),3)\n",
      "    assert Cost(C,Y) == 0\n",
      "    \n",
      "def test_Cost_zero2():\n",
      "    C=np.random.multivariate_normal([0,0,0],5*np.identity(3),3)\n",
      "    Y=C[0,]\n",
      "    assert Cost(C,Y) == 0\n",
      "    \n",
      "def test_Cost_known1():\n",
      "    C1=np.random.multivariate_normal([0,0,0],5*np.identity(3),3)\n",
      "    C2=C1[0:1,]\n",
      "    Y=np.random.multivariate_normal([0,0,0],5*np.identity(3),4)\n",
      "    assert Cost(C1,Y) <= Cost(C2,Y)"
     ],
     "language": "python",
     "metadata": {},
     "outputs": [
      {
       "output_type": "stream",
       "stream": "stdout",
       "text": [
        "Overwriting test_kmeans.py\n"
       ]
      }
     ],
     "prompt_number": 60
    },
    {
     "cell_type": "code",
     "collapsed": false,
     "input": [
      "! py.test"
     ],
     "language": "python",
     "metadata": {},
     "outputs": [
      {
       "output_type": "stream",
       "stream": "stdout",
       "text": [
        "\u001b[1m============================= test session starts ==============================\u001b[0m\r\n",
        "platform linux2 -- Python 2.7.9 -- py-1.4.25 -- pytest-2.6.3\r\n",
        "\u001b[1m\r",
        "collecting 0 items\u001b[0m"
       ]
      },
      {
       "output_type": "stream",
       "stream": "stdout",
       "text": [
        "\u001b[1m\r",
        "collecting 5 items\u001b[0m\u001b[1m\r",
        "collected 5 items \r\n",
        "\u001b[0m\r\n",
        "test_kmeans.py .....\r\n",
        "\r\n",
        "\u001b[32m\u001b[1m=========================== 5 passed in 0.11 seconds ===========================\u001b[0m\r\n"
       ]
      }
     ],
     "prompt_number": 61
    }
   ],
   "metadata": {}
  }
 ]
}