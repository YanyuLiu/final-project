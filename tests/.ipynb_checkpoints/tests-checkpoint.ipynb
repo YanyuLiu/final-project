{
 "cells": [
  {
   "cell_type": "markdown",
   "metadata": {},
   "source": [
    "# Tests"
   ]
  },
  {
   "cell_type": "code",
   "execution_count": 4,
   "metadata": {
    "collapsed": false
   },
   "outputs": [
    {
     "name": "stdout",
     "output_type": "stream",
     "text": [
      "Writing kmeans_fortest.py\n"
     ]
    }
   ],
   "source": [
    "%%file kmeans_fortest.py\n",
    "\n",
    "import numpy as np\n",
    "import numpy.random as nrd\n",
    "#centroid\n",
    "# def Centroid(Y):\n",
    "#     \"\"\"Y is a subset of the dataset\"\"\"\n",
    "#     return np.average(Y,axis=0)\n",
    "\n",
    "def Cost(C, Y):\n",
    "    \"\"\"C is a subset of the dataset, Y can be a point or a subset\"\"\"\n",
    "    if  len(Y.shape)==1 or Y.shape[0]==1:\n",
    "        #Y is a point\n",
    "        MinIndex = np.argmin(np.sum((Y-C)**2,axis=1))\n",
    "        return np.sum((Y-C[MinIndex,])**2)\n",
    "    else:\n",
    "        return np.sum([Cost(C,Y_i) for Y_i in Y])\n",
    "\n",
    "def weight(C, data):\n",
    "    \"\"\"C is the centroid set and data is the target data set\"\"\"\n",
    "    if len(C.shape)==1 or C.shape[0]==1:\n",
    "        #C only have one point\n",
    "        if len(data.shape)==1 or data.shape[0]==1:\n",
    "            return np.array([1])\n",
    "        else:\n",
    "            return np.array([len(data)])\n",
    "    else:\n",
    "        #the cloest center for each point in data\n",
    "        Index_min = [np.argmin(np.sum((x-C)**2,axis=1)) for x in data]\n",
    "        #frequency for each center\n",
    "        return np.array([Index_min.count(i) for i in range(len(C))]).astype(float)\n",
    "\n",
    "def kmeanspar(k,l,r,data):\n",
    "    \"\"\"k is the number of centers, l is the expected number of intermediate points\n",
    "    in each iteration, r is the number of iterations, data is the target data set\"\"\"\n",
    "    #l*r should be larger than k in case k-means|| select too few points\n",
    "    if l*r < k:\n",
    "        raise ValueError('r or l must be bigger, ')\n",
    "    #if k is too large\n",
    "    if k >= len(data):\n",
    "        raise ValueError('k is too large')\n",
    "    #Step 1: choose one point randomly\n",
    "    C = data[nrd.choice(range(len(data)),1),]\n",
    "    #for loop\n",
    "    for i in range(r):\n",
    "        prob = [l*Cost(C,x) for x in data]/Cost(C,data)\n",
    "        flag = nrd.uniform(size=len(data))\n",
    "        C = np.concatenate((C,data[prob>=flag,]))\n",
    "    #step 7\n",
    "    weights = weight(C,data)\n",
    "    #step 8: k-means++ to choose weighted points\n",
    "    c = C[nrd.choice(range(len(C)),1),]\n",
    "    while len(c) < k:\n",
    "        p = np.array([Cost(c,x) for x in C])\n",
    "        Prob = p*weights/np.sum(p*weights)\n",
    "        x = nrd.choice(range(len(C)),1,p=Prob)\n",
    "        c = np.concatenate((c,C[x,]))\n",
    "    #change the return to only test initialization part\n",
    "    return c\n",
    "\n",
    "def Random(k,data):\n",
    "    \"\"\"k is the number of centers, data is target data\"\"\"\n",
    "    if k >= len(data):\n",
    "        raise ValueError('k is too large')\n",
    "    return data[np.random.choice(len(data),k,replace=False),:]\n",
    "\n",
    "def kmeansplus(k,data):\n",
    "    if k >= len(data):\n",
    "        raise ValueError('k is too large')\n",
    "    #Step 1\n",
    "    C = data[nrd.choice(range(len(data)),1),]\n",
    "    #while loop\n",
    "    while len(C) < k:\n",
    "        prob = ([Cost(C,x) for x in data]/Cost(C,data)).reshape(len(data))\n",
    "        x = nrd.choice(range(len(data)),1,p=prob)\n",
    "        C = np.concatenate((C,data[x,]))\n",
    "    return C"
   ]
  },
  {
   "cell_type": "code",
   "execution_count": 5,
   "metadata": {
    "collapsed": false
   },
   "outputs": [
    {
     "name": "stdout",
     "output_type": "stream",
     "text": [
      "Overwriting test_cost.py\n"
     ]
    }
   ],
   "source": [
    "%%file test_cost.py\n",
    "\n",
    "import numpy as np\n",
    "import numpy.random as nrd\n",
    "from numpy.testing import assert_equal\n",
    "from kmeans_fortest import Cost\n",
    "\n",
    "# def test_Centroid_dimension():\n",
    "   \n",
    "# def test_Centroid_when_same():\n",
    "    \n",
    "# def test_Centroid_when_different():\n",
    "    \n",
    "# def test_Centroid_known():\n",
    "\n",
    "def test_Cost_integer1():\n",
    "    Y=np.array([1,2,3])\n",
    "    C=np.array([[1,2,3],[3,4,2],[5,2,1]])\n",
    "    assert Cost(C,Y) == 0\n",
    "    \n",
    "def test_Cost_integer1():\n",
    "    Y=C=np.array([[1,2,3],[3,4,2],[5,2,1]])\n",
    "    assert Cost(C,Y) == 0\n",
    "    \n",
    "\n",
    "def test_Cost_non_negative1():\n",
    "    for i in range(10):\n",
    "        Y=nrd.multivariate_normal([0,0,0],5*np.identity(3),4)\n",
    "        C=nrd.multivariate_normal([0,0,0],5*np.identity(3),3)\n",
    "        assert Cost(C,Y) >= 0\n",
    "        \n",
    "def test_Cost_non_negative2():\n",
    "    for i in range(10):\n",
    "        Y=nrd.multivariate_normal([0,0,0],5*np.identity(3),1)\n",
    "        C=nrd.multivariate_normal([0,0,0],5*np.identity(3),3)\n",
    "        assert Cost(C,Y) >= 0\n",
    "    \n",
    "def test_Cost_zero1():\n",
    "    Y=C=nrd.multivariate_normal([0,0,0],5*np.identity(3),3)\n",
    "    assert Cost(C,Y) == 0\n",
    "    \n",
    "def test_Cost_zero2():\n",
    "    C=nrd.multivariate_normal([0,0,0],5*np.identity(3),3)\n",
    "    Y=C[0,]\n",
    "    assert Cost(C,Y) == 0\n",
    "    \n",
    "def test_Cost_known1():\n",
    "    C1=nrd.multivariate_normal([0,0,0],5*np.identity(3),3)\n",
    "    C2=C1[0:1,]\n",
    "    Y=nrd.multivariate_normal([0,0,0],5*np.identity(3),4)\n",
    "    assert Cost(C1,Y) <= Cost(C2,Y)\n",
    "    "
   ]
  },
  {
   "cell_type": "code",
   "execution_count": 6,
   "metadata": {
    "collapsed": false
   },
   "outputs": [
    {
     "name": "stdout",
     "output_type": "stream",
     "text": [
      "Overwriting test_weight.py\n"
     ]
    }
   ],
   "source": [
    "%%file test_weight.py\n",
    "\n",
    "import numpy as np\n",
    "import numpy.random as nrd\n",
    "from numpy.testing import assert_equal\n",
    "from kmeans_fortest import Cost,weight\n",
    "\n",
    "def test_weight_one_point():\n",
    "    C=nrd.multivariate_normal([0,0,0],5*np.identity(3),3)\n",
    "    assert_equal(weight(C[0,],C),np.array([3]))\n",
    "def test_weight_known1():\n",
    "    C=nrd.multivariate_normal([0,0,0],5*np.identity(3),1)\n",
    "    assert_equal(weight(C,C),np.array([1]))\n",
    "\n",
    "def test_weight_known2():\n",
    "    C=nrd.multivariate_normal([0,0,0],5*np.identity(3),3)\n",
    "    assert_equal(weight(C,C),np.array([1,1,1]))\n",
    "\n",
    "def test_weight_zero1():\n",
    "    C=nrd.multivariate_normal([0,0,0],5*np.identity(3),5)\n",
    "    X=C[0:4,]\n",
    "    assert_equal(weight(C,X),np.array([1,1,1,1,0]))\n",
    "    \n",
    "def test_weight_zero1():\n",
    "    C=nrd.multivariate_normal([0,0,0],5*np.identity(3),5)\n",
    "    X=C[1:5,]\n",
    "    assert_equal(weight(C,X),np.array([0,1,1,1,1]))\n",
    "    \n",
    "def test_weight_integer1():\n",
    "    X=np.array([[1,1,1],[2,3,4],[1,1,1]])\n",
    "    C=X[0:2,]\n",
    "    assert_equal(weight(C,X),np.array([2,1]))"
   ]
  },
  {
   "cell_type": "code",
   "execution_count": 7,
   "metadata": {
    "collapsed": false
   },
   "outputs": [
    {
     "name": "stdout",
     "output_type": "stream",
     "text": [
      "Overwriting test_kmeanspar.py\n"
     ]
    }
   ],
   "source": [
    "%%file test_kmeanspar.py\n",
    "\n",
    "import numpy as np\n",
    "import numpy.random as nrd\n",
    "from numpy.testing import assert_equal,assert_raises\n",
    "from kmeans_fortest import Cost,weight,kmeanspar\n",
    "\n",
    "k = 5\n",
    "centers = nrd.multivariate_normal([0,0,0],5*np.identity(3),k)\n",
    "data = [nrd.multivariate_normal(center, np.identity(3),10) for center in centers]\n",
    "data = np.vstack(data)\n",
    "\n",
    "def test_kmeanspar_len1():\n",
    "    assert_equal(len(kmeanspar(2,2,5,data)),2)\n",
    "\n",
    "def test_kmeanspar_len2():\n",
    "    assert_equal(len(kmeanspar(2,1,5,data)),2)\n",
    "\n",
    "def test_kmeanspar_len3():\n",
    "    assert_equal(len(kmeanspar(5,3,5,data)),5)\n",
    "\n",
    "def test_kmeanspar_inside1():\n",
    "    assert_equal(all([d in data for d in kmeanspar(5,1,10,data)]),True)\n",
    "    \n",
    "def test_kmeanspar_inside2():\n",
    "    assert_equal(all([d in data for d in kmeanspar(10,3,5,data)]),True)\n",
    "    \n",
    "def test_kmeanspar_throws_exception():\n",
    "    assert_raises(ValueError,kmeanspar,500,100,100,data)\n",
    "    \n",
    "def test_kmeanspar_throws_exception2():\n",
    "    assert_raises(ValueError,kmeanspar,5,1,3,data)\n",
    "    "
   ]
  },
  {
   "cell_type": "code",
   "execution_count": 8,
   "metadata": {
    "collapsed": false
   },
   "outputs": [
    {
     "name": "stdout",
     "output_type": "stream",
     "text": [
      "Overwriting test_Random.py\n"
     ]
    }
   ],
   "source": [
    "%%file test_Random.py\n",
    "\n",
    "import numpy as np\n",
    "import numpy.random as nrd\n",
    "from numpy.testing import assert_equal,assert_raises\n",
    "from kmeans_fortest import Random\n",
    "\n",
    "k = 5\n",
    "centers = nrd.multivariate_normal([0,0,0],5*np.identity(3),k)\n",
    "data = [nrd.multivariate_normal(center, np.identity(3),10) for center in centers]\n",
    "data = np.vstack(data)\n",
    "\n",
    "def test_Random_len():\n",
    "    assert_equal(len(Random(10,data)),10)\n",
    "\n",
    "def test_Random_inside():\n",
    "    assert_equal(all([d in data for d in Random(5,data)]),True)\n",
    "    \n",
    "def test_Random_throws_exception():\n",
    "    assert_raises(ValueError,Random,500,data)"
   ]
  },
  {
   "cell_type": "code",
   "execution_count": 9,
   "metadata": {
    "collapsed": false
   },
   "outputs": [
    {
     "name": "stdout",
     "output_type": "stream",
     "text": [
      "Overwriting test_kmeansplus.py\n"
     ]
    }
   ],
   "source": [
    "%%file test_kmeansplus.py\n",
    "import numpy as np\n",
    "import numpy.random as nrd\n",
    "from numpy.testing import assert_equal,assert_raises\n",
    "from kmeans_fortest import Cost,kmeansplus\n",
    "\n",
    "k = 5\n",
    "centers = nrd.multivariate_normal([0,0,0],5*np.identity(3),k)\n",
    "data = [nrd.multivariate_normal(center, np.identity(3),10) for center in centers]\n",
    "data = np.vstack(data)\n",
    "\n",
    "def test_kmeansplus_len1():\n",
    "    assert_equal(len(kmeansplus(10,data)),10)\n",
    "\n",
    "def test_kmeansplus_len2():\n",
    "    assert_equal(len(kmeansplus(7,data)),7)\n",
    "\n",
    "def test_kmeansplus_inside1():\n",
    "    assert_equal(all([d in data for d in kmeansplus(5,data)]),True)\n",
    "    \n",
    "def test_kmeansplus_inside2():\n",
    "    assert_equal(all([d in data for d in kmeansplus(1,data)]),True)\n",
    "    \n",
    "def test_kmeansplus_throws_exception():\n",
    "    assert_raises(ValueError,kmeansplus,100,data)"
   ]
  },
  {
   "cell_type": "code",
   "execution_count": 10,
   "metadata": {
    "collapsed": false
   },
   "outputs": [
    {
     "name": "stdout",
     "output_type": "stream",
     "text": [
      "\u001b[1m============================= test session starts ==============================\u001b[0m\n",
      "platform linux2 -- Python 2.7.9 -- py-1.4.25 -- pytest-2.6.3\n",
      "collected 36 items \n",
      "\u001b[0m\n",
      "test_Random.py ...\n",
      "test_cost.py ......\n",
      "test_kmeans.py ..........\n",
      "test_kmeanspar.py .......\n",
      "test_kmeansplus.py .....\n",
      "test_weight.py .....\n",
      "\n",
      "\u001b[32m\u001b[1m========================== 36 passed in 0.37 seconds ===========================\u001b[0m\n"
     ]
    }
   ],
   "source": [
    "! py.test"
   ]
  },
  {
   "cell_type": "code",
   "execution_count": null,
   "metadata": {
    "collapsed": true
   },
   "outputs": [],
   "source": []
  }
 ],
 "metadata": {
  "kernelspec": {
   "display_name": "Python 2",
   "language": "python",
   "name": "python2"
  },
  "language_info": {
   "codemirror_mode": {
    "name": "ipython",
    "version": 2
   },
   "file_extension": ".py",
   "mimetype": "text/x-python",
   "name": "python",
   "nbconvert_exporter": "python",
   "pygments_lexer": "ipython2",
   "version": "2.7.9"
  }
 },
 "nbformat": 4,
 "nbformat_minor": 0
}
