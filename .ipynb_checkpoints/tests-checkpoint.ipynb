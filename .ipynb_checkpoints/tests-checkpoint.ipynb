{
 "metadata": {
  "name": "",
  "signature": "sha256:ea3f576e0ef8ef95ed87d68e3bd2422aa101bba99dd1d802d1c3eaa25d4b8842"
 },
 "nbformat": 3,
 "nbformat_minor": 0,
 "worksheets": [
  {
   "cells": [
    {
     "cell_type": "heading",
     "level": 1,
     "metadata": {},
     "source": [
      "Tests"
     ]
    },
    {
     "cell_type": "code",
     "collapsed": false,
     "input": [
      "%%file kmeans_parallel.py\n",
      "\n",
      "def oversampling():\n",
      "    pass\n",
      "\n",
      "def euclidean_dist(u, v):\n",
      "    \"\"\"Returns Euclidean distance betwen numpy vectors u and v.\"\"\"\n",
      "    w = u - v\n",
      "    return np.sqrt(np.sum(w**2))"
     ],
     "language": "python",
     "metadata": {},
     "outputs": []
    },
    {
     "cell_type": "code",
     "collapsed": false,
     "input": [
      "%%file test_kmeans_parallel.py\n",
      "\n",
      "def test_oversampling_positive():\n",
      "    assert oversampling(X) >= 0\n",
      "    \n",
      "def test_non_negativity():\n",
      "    for i in range(10):\n",
      "        u = np.random.normal(3)\n",
      "        v = np.random.normal(3)\n",
      "        assert euclidean_dist(u, v) >= 0\n",
      "\n",
      "def test_coincidence_when_zero():\n",
      "    u = np.zeros(3)\n",
      "    v = np.zeros(3)\n",
      "    assert euclidean_dist(u, v) == 0\n",
      "\n",
      "def test_coincidence_when_not_zero():\n",
      "     for i in range(10):\n",
      "        u = np.random.random(3)\n",
      "        v = np.zeros(3)\n",
      "        assert euclidean_dist(u, v) != 0\n",
      "\n",
      "def test_symmetry():\n",
      "    for i in range(10):\n",
      "        u = np.random.random(3)\n",
      "        v = np.random.random(3)\n",
      "        assert euclidean_dist(u, v) == euclidean_dist(v, u)\n",
      "\n",
      "def test_triangle():\n",
      "    \n",
      "    u = np.random.random(3)\n",
      "    v = np.random.random(3)\n",
      "    w = np.random.random(3)\n",
      "    assert euclidean_dist(u, w) <= euclidean_dist(u, v) + euclidean_dist(v, w)\n",
      "\n",
      "def test_known1():\n",
      "    u = np.array([0])\n",
      "    v = np.array([3])\n",
      "    assert_almost_equal(euclidean_dist(u, v), 3)\n",
      "\n",
      "def test_known2():\n",
      "    u = np.array([0,0])\n",
      "    v = np.array([3, 4])\n",
      "    assert_almost_equal(euclidean_dist(u, v), 5)\n",
      "\n",
      "def test_known3():\n",
      "    u = np.array([0,0])\n",
      "    v = np.array([-3, -4])\n",
      "    assert_almost_equal(euclidean_dist(u, v), 5)"
     ],
     "language": "python",
     "metadata": {},
     "outputs": []
    }
   ],
   "metadata": {}
  }
 ]
}